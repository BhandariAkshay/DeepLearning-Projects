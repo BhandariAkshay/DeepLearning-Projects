{
  "nbformat": 4,
  "nbformat_minor": 0,
  "metadata": {
    "colab": {
      "name": "Single Image AttendanceTrackingSystem.ipynb",
      "provenance": [],
      "collapsed_sections": []
    },
    "kernelspec": {
      "name": "python3",
      "display_name": "Python 3"
    },
    "language_info": {
      "name": "python"
    },
    "accelerator": "GPU"
  },
  "cells": [
    {
      "cell_type": "code",
      "metadata": {
        "id": "O6R22mrx7gjI",
        "colab": {
          "base_uri": "https://localhost:8080/"
        },
        "outputId": "2cfc8d76-ba5e-42c0-de60-8fbe1df2cb31"
      },
      "source": [
        "!pip install face_recognition"
      ],
      "execution_count": null,
      "outputs": [
        {
          "output_type": "stream",
          "text": [
            "Requirement already satisfied: face_recognition in /usr/local/lib/python3.7/dist-packages (1.3.0)\n",
            "Requirement already satisfied: Click>=6.0 in /usr/local/lib/python3.7/dist-packages (from face_recognition) (7.1.2)\n",
            "Requirement already satisfied: Pillow in /usr/local/lib/python3.7/dist-packages (from face_recognition) (7.1.2)\n",
            "Requirement already satisfied: face-recognition-models>=0.3.0 in /usr/local/lib/python3.7/dist-packages (from face_recognition) (0.3.0)\n",
            "Requirement already satisfied: numpy in /usr/local/lib/python3.7/dist-packages (from face_recognition) (1.19.5)\n",
            "Requirement already satisfied: dlib>=19.7 in /usr/local/lib/python3.7/dist-packages (from face_recognition) (19.18.0)\n"
          ],
          "name": "stdout"
        }
      ]
    },
    {
      "cell_type": "code",
      "metadata": {
        "colab": {
          "base_uri": "https://localhost:8080/"
        },
        "id": "-7gmdHKn1F1e",
        "outputId": "161efd67-563a-461e-8718-b33722e2f7ca"
      },
      "source": [
        "import os\n",
        "import face_recognition\n",
        "from PIL import Image, ImageDraw\n",
        "\n",
        "known_face_names = []\n",
        "known_face_encodings = []\n",
        "for filename in os.listdir(path='/content/AttendanceDataset'):\n",
        "  if filename.endswith(\".jpg\") or filename.endswith(\".png\"):\n",
        "    image = face_recognition.load_image_file('/content/AttendanceDataset/' + filename)\n",
        "    image_encodings = face_recognition.face_encodings(image)[0]\n",
        "    known_face_encodings.append(image_encodings)\n",
        "    known_face_names.append(filename.split(sep='.')[0])\n",
        "\n",
        "print(known_face_names)\n",
        "\n",
        "unknown_face_encodings = []\n",
        "for filename in os.listdir(path='/content/TestDataset'):\n",
        "  if filename.endswith(\".jpg\") or filename.endswith(\".png\"):\n",
        "    image = face_recognition.load_image_file('/content/TestDataset/' + filename)\n",
        "    image_encodings = face_recognition.face_encodings(image)[0]\n",
        "    unknown_face_encodings.append(image_encodings)\n",
        "\n",
        "attendance_sheet = open('/content/Attendance_Sheet.txt', mode='a+')\n",
        "\n",
        "for face_enc in unknown_face_encodings:\n",
        "  matches = face_recognition.compare_faces(known_face_encodings, face_enc)\n",
        "  print(matches)\n",
        "  name = \"Unknown Person\"\n",
        "\n",
        "  if True in matches:\n",
        "    first_match_index = matches.index(True)\n",
        "    print(first_match_index)\n",
        "    name = known_face_names[first_match_index]\n",
        "    print(name)\n",
        "    attendance_sheet.write(name + \"\\n\")\n",
        "\n",
        "\n",
        "attendance_sheet.seek(0)\n",
        "print(\"THe students  present today are: \\n\")\n",
        "print(attendance_sheet.read().split('\\n'))\n",
        "attendance_sheet.close()"
      ],
      "execution_count": null,
      "outputs": [
        {
          "output_type": "stream",
          "text": [
            "['Dwayne Johnson', 'Tom  Cruise', 'Sylvester Stallone', 'Jennifer Aniston', 'Arnold Schwarzenegger', 'Robert Downey Jr', 'Will Smith', 'Angelina Jolie', 'Brad Pitt', 'Emma Watson', 'Tom Hanks', 'Keanu  Reeves']\n",
            "[False, False, False, False, False, True, False, False, False, False, False, False]\n",
            "5\n",
            "Robert Downey Jr\n",
            "[False, False, False, False, False, False, False, False, False, False, False, True]\n",
            "11\n",
            "Keanu  Reeves\n",
            "[False, False, False, False, False, False, False, False, False, False, True, False]\n",
            "10\n",
            "Tom Hanks\n",
            "THe students  present today are: \n",
            "\n",
            "['Robert Downey Jr', 'Keanu  Reeves', 'Tom Hanks', '']\n"
          ],
          "name": "stdout"
        }
      ]
    },
    {
      "cell_type": "code",
      "metadata": {
        "id": "6UTSszbD3zVL"
      },
      "source": [
        ""
      ],
      "execution_count": null,
      "outputs": []
    }
  ]
}